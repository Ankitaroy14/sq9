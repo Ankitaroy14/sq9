{
 "cells": [
  {
   "cell_type": "code",
   "execution_count": null,
   "id": "5f752b76",
   "metadata": {},
   "outputs": [],
   "source": [
    "1) Write an SQL query to show the top n (say 10) records of a table.\n",
    "\n",
    "cursor.execute(\"select TOP 10 * from Workers Order by salary desc\")\n",
    "or\n",
    "cursor.execute(\"select * from Workers Order by salary desc limit 10\")\n",
    "\n",
    "2) Write an SQL query to determine the nth (say n=5) highest salary from a table.\n",
    "\n",
    "cursor.execute(\"select Salary from Workers ORDER BY Salary DESC LIMIT 4,1\")\n",
    "\n",
    "\n",
    "\n"
   ]
  }
 ],
 "metadata": {
  "kernelspec": {
   "display_name": "Python 3 (ipykernel)",
   "language": "python",
   "name": "python3"
  },
  "language_info": {
   "codemirror_mode": {
    "name": "ipython",
    "version": 3
   },
   "file_extension": ".py",
   "mimetype": "text/x-python",
   "name": "python",
   "nbconvert_exporter": "python",
   "pygments_lexer": "ipython3",
   "version": "3.9.7"
  }
 },
 "nbformat": 4,
 "nbformat_minor": 5
}
